{
 "cells": [
  {
   "cell_type": "code",
   "execution_count": 1,
   "metadata": {},
   "outputs": [
    {
     "name": "stdout",
     "output_type": "stream",
     "text": [
      "WARNING:tensorflow:From c:\\Users\\ZAID\\miniconda3\\Lib\\site-packages\\keras\\src\\losses.py:2976: The name tf.losses.sparse_softmax_cross_entropy is deprecated. Please use tf.compat.v1.losses.sparse_softmax_cross_entropy instead.\n",
      "\n"
     ]
    }
   ],
   "source": [
    "from tensorflow.keras.models import load_model"
   ]
  },
  {
   "cell_type": "code",
   "execution_count": 2,
   "metadata": {},
   "outputs": [
    {
     "name": "stdout",
     "output_type": "stream",
     "text": [
      "WARNING:tensorflow:From c:\\Users\\ZAID\\miniconda3\\Lib\\site-packages\\keras\\src\\backend.py:1398: The name tf.executing_eagerly_outside_functions is deprecated. Please use tf.compat.v1.executing_eagerly_outside_functions instead.\n",
      "\n",
      "WARNING:tensorflow:From c:\\Users\\ZAID\\miniconda3\\Lib\\site-packages\\keras\\src\\layers\\pooling\\max_pooling2d.py:161: The name tf.nn.max_pool is deprecated. Please use tf.nn.max_pool2d instead.\n",
      "\n",
      "Model: \"sequential\"\n",
      "_________________________________________________________________\n",
      " Layer (type)                Output Shape              Param #   \n",
      "=================================================================\n",
      " conv2d (Conv2D)             (None, 124, 124, 32)      2432      \n",
      "                                                                 \n",
      " conv2d_1 (Conv2D)           (None, 120, 120, 32)      25632     \n",
      "                                                                 \n",
      " max_pooling2d (MaxPooling2  (None, 60, 60, 32)        0         \n",
      " D)                                                              \n",
      "                                                                 \n",
      " dropout (Dropout)           (None, 60, 60, 32)        0         \n",
      "                                                                 \n",
      " flatten (Flatten)           (None, 115200)            0         \n",
      "                                                                 \n",
      " dense (Dense)               (None, 256)               29491456  \n",
      "                                                                 \n",
      " dropout_1 (Dropout)         (None, 256)               0         \n",
      "                                                                 \n",
      " dense_1 (Dense)             (None, 2)                 514       \n",
      "                                                                 \n",
      "=================================================================\n",
      "Total params: 29520034 (112.61 MB)\n",
      "Trainable params: 29520034 (112.61 MB)\n",
      "Non-trainable params: 0 (0.00 Byte)\n",
      "_________________________________________________________________\n"
     ]
    }
   ],
   "source": [
    "path = r'E:\\project_24\\Major_Project_forgery\\code\\models\\model_casia_run1.h5'\n",
    "model = load_model(path)\n",
    "model.summary()"
   ]
  },
  {
   "cell_type": "code",
   "execution_count": 4,
   "metadata": {},
   "outputs": [],
   "source": [
    "from common.helper import *\n",
    "from database import *"
   ]
  },
  {
   "cell_type": "code",
   "execution_count": 8,
   "metadata": {},
   "outputs": [
    {
     "name": "stdout",
     "output_type": "stream",
     "text": [
      "2024-04-13 16:24:18,390 INFO sqlalchemy.engine.Engine BEGIN (implicit)\n",
      "2024-04-13 16:24:18,393 INFO sqlalchemy.engine.Engine SELECT files.id AS files_id, files.path AS files_path, files.user_id AS files_user_id, files.created_at AS files_created_at \n",
      "FROM files \n",
      "WHERE files.id = ?\n",
      "2024-04-13 16:24:18,394 INFO sqlalchemy.engine.Engine [generated in 0.00097s] (1,)\n"
     ]
    },
    {
     "name": "stderr",
     "output_type": "stream",
     "text": [
      "C:\\Users\\ZAID\\AppData\\Local\\Temp\\ipykernel_9224\\4254781881.py:3: LegacyAPIWarning: The Query.get() method is considered legacy as of the 1.x series of SQLAlchemy and becomes a legacy construct in 2.0. The method is now available as Session.get() (deprecated since: 2.0) (Background on SQLAlchemy 2.0 at: https://sqlalche.me/e/b8d9)\n",
      "  img = db.query(File).get(1)\n"
     ]
    },
    {
     "name": "stdout",
     "output_type": "stream",
     "text": [
      "model loaded\n",
      "1/1 [==============================] - 0s 64ms/step\n",
      "😠 ufunc 'greater' did not contain a loop with signature matching types (<class 'numpy.dtypes.StrDType'>, <class 'numpy.dtypes.Int32DType'>) -> None\n",
      "authentic with confidence 64.25%\n"
     ]
    }
   ],
   "source": [
    "db = open_db()\n",
    "class_names=['authentic', 'tampered']\n",
    "img = db.query(File).get(1)\n",
    "path = img.path\n",
    "if os.path.exists(path):\n",
    "    image = prepare_image(path)\n",
    "    image = image.reshape(-1, 128, 128, 3)\n",
    "    model = load_my_model('models\\model_casia_run1.h5')\n",
    "    print('model loaded')\n",
    "    y_pred = model.predict(image)\n",
    "    y_pred_class = np.argmax(y_pred, axis=1)[0]\n",
    "    cls = class_names[y_pred_class]\n",
    "    conf  = np.amax(y_pred)*100\n",
    "    if y_pred_class == 0:\n",
    "        try:\n",
    "            os.makedirs('static/ela', exist_ok=True)\n",
    "            ela_path = f'static/ela/{img.id}.png'\n",
    "            convert_to_ela_image(path, 91).save(ela_path)\n",
    "            coords = find_manipulated_region(ela_path)\n",
    "            modify_boundary = make_pixels_white(ela_path, coords)\n",
    "            os.makedirs('static/modified', exist_ok=True)\n",
    "            modified_path = f'static/modified/{img.id}.png'\n",
    "            modify_boundary.save(modified_path)\n",
    "        except Exception as e:\n",
    "            print(\"😠\",e)\n",
    "    print(f'{cls} with confidence {conf:.2f}%')\n"
   ]
  },
  {
   "cell_type": "code",
   "execution_count": null,
   "metadata": {},
   "outputs": [],
   "source": []
  }
 ],
 "metadata": {
  "kernelspec": {
   "display_name": "base",
   "language": "python",
   "name": "python3"
  },
  "language_info": {
   "codemirror_mode": {
    "name": "ipython",
    "version": 3
   },
   "file_extension": ".py",
   "mimetype": "text/x-python",
   "name": "python",
   "nbconvert_exporter": "python",
   "pygments_lexer": "ipython3",
   "version": "3.11.7"
  }
 },
 "nbformat": 4,
 "nbformat_minor": 2
}
